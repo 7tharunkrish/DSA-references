{
 "cells": [
  {
   "cell_type": "code",
   "execution_count": 1,
   "id": "90f3af3c-71f7-4d73-971c-a06a2cbba195",
   "metadata": {},
   "outputs": [
    {
     "name": "stdout",
     "output_type": "stream",
     "text": [
      "True\n"
     ]
    }
   ],
   "source": [
    "# sol =Solution()\n",
    "# sol.isValid(s=\"{{}}\")"
   ]
  },
  {
   "cell_type": "code",
   "execution_count": 3,
   "id": "7439c56c-51ea-46cf-98d2-4eac1f288983",
   "metadata": {},
   "outputs": [
    {
     "data": {
      "text/plain": [
       "True"
      ]
     },
     "execution_count": 3,
     "metadata": {},
     "output_type": "execute_result"
    }
   ],
   "source": [
    "#check if a valid string \"{{[]}}\"\n",
    "class Solution:\n",
    "    def isValid(self, s: str) -> bool:\n",
    "        stack = []\n",
    "        matching = {\"(\": \")\", \"[\": \"]\", \"{\": \"}\"}\n",
    "        \n",
    "        for c in s:\n",
    "            if c in matching: # if c is an opening bracket\n",
    "                stack.append(c)\n",
    "            else:\n",
    "                if not stack:\n",
    "                    return False\n",
    "                \n",
    "                previous_opening = stack.pop()\n",
    "                if matching[previous_opening] != c:\n",
    "                    return False\n",
    " \n",
    "        return not stack\n",
    "    \n",
    "sol =Solution()\n",
    "sol.isValid(s=\"{{}}\")"
   ]
  },
  {
   "cell_type": "code",
   "execution_count": 11,
   "id": "151041af-041f-4737-80cd-e635132b782b",
   "metadata": {},
   "outputs": [
    {
     "data": {
      "text/plain": [
       "'d'"
      ]
     },
     "execution_count": 11,
     "metadata": {},
     "output_type": "execute_result"
    }
   ],
   "source": [
    "#Remove adjacent duplicates in a string\n",
    "class Solution:\n",
    "    def removeDuplicates(self, s: str) -> str:\n",
    "        stack = []\n",
    "        for c in s:\n",
    "            if stack and stack[-1] == c:\n",
    "                stack.pop()\n",
    "            else:\n",
    "                stack.append(c)\n",
    "        return \"\".join(stack)\n",
    "\n",
    "sol = Solution()\n",
    "sol.removeDuplicates(\"ccbbaad\")"
   ]
  },
  {
   "cell_type": "code",
   "execution_count": 17,
   "id": "5d5248d7-12ae-4915-8cb5-c523ce0fb0af",
   "metadata": {},
   "outputs": [
    {
     "data": {
      "text/plain": [
       "False"
      ]
     },
     "execution_count": 17,
     "metadata": {},
     "output_type": "execute_result"
    }
   ],
   "source": [
    "#backspace string compare \n",
    "#s1 = \"ab#c\" s2= \"ad#c\" returns true\n",
    "class Solution:\n",
    "    def backspaceCompare(self, s1: str, s2: str) -> bool:\n",
    "        def build(s):\n",
    "            stack = []\n",
    "            for c in s:\n",
    "                if c == \"#\":\n",
    "                    stack.pop()\n",
    "                stack.append(c)\n",
    "            return \"\".join(stack)\n",
    "            \n",
    "        return build(s1) == build(s2)\n",
    "\n",
    "sol =  Solution()\n",
    "sol.backspaceCompare(\"abc#c\",\"ad#c\")"
   ]
  },
  {
   "cell_type": "code",
   "execution_count": 35,
   "id": "d9f67296-dbe5-4068-b7ee-b661eacb6e4b",
   "metadata": {},
   "outputs": [
    {
     "name": "stdout",
     "output_type": "stream",
     "text": [
      "deque([1, 2, 3, 4, 5])\n",
      "deque([2, 3, 4, 5])\n",
      "queue is empty\n"
     ]
    }
   ],
   "source": [
    "# Declaration: we will use deque from the collections module\n",
    "import collections\n",
    "queue = collections.deque()\n",
    "\n",
    "# If you want to initialize it with some initial values:\n",
    "queue = collections.deque([1, 2, 3])\n",
    "\n",
    "# Enqueueing/adding elements:\n",
    "queue.append(4)\n",
    "queue.append(5)\n",
    "\n",
    "print(queue)\n",
    "\n",
    "queue.popleft()\n",
    "print(queue)\n",
    "queue[0]\n",
    "queue.pop()\n",
    "\n",
    "while queue:\n",
    "    queue.popleft()\n",
    "if not queue:\n",
    "    print(\"queue is empty\")"
   ]
  },
  {
   "cell_type": "code",
   "execution_count": 37,
   "id": "ca849f73-fd57-4f9d-9312-90bf4ad628a1",
   "metadata": {},
   "outputs": [
    {
     "ename": "TypeError",
     "evalue": "'<' not supported between instances of 'types.GenericAlias' and 'int'",
     "output_type": "error",
     "traceback": [
      "\u001b[0;31m---------------------------------------------------------------------------\u001b[0m",
      "\u001b[0;31mTypeError\u001b[0m                                 Traceback (most recent call last)",
      "Cell \u001b[0;32mIn[37], line 14\u001b[0m\n\u001b[1;32m     11\u001b[0m         \u001b[38;5;28;01mreturn\u001b[39;00m \u001b[38;5;28mlen\u001b[39m(\u001b[38;5;28mself\u001b[39m\u001b[38;5;241m.\u001b[39mqueue)\n\u001b[1;32m     13\u001b[0m obj \u001b[38;5;241m=\u001b[39m RecentCounter()\n\u001b[0;32m---> 14\u001b[0m param_1 \u001b[38;5;241m=\u001b[39m obj\u001b[38;5;241m.\u001b[39mping(\u001b[38;5;241m5\u001b[39m)\n",
      "Cell \u001b[0;32mIn[37], line 8\u001b[0m, in \u001b[0;36mRecentCounter.ping\u001b[0;34m(self, t)\u001b[0m\n\u001b[1;32m      7\u001b[0m \u001b[38;5;28;01mdef\u001b[39;00m \u001b[38;5;21mping\u001b[39m(\u001b[38;5;28mself\u001b[39m, t: \u001b[38;5;28mint\u001b[39m) \u001b[38;5;241m-\u001b[39m\u001b[38;5;241m>\u001b[39m \u001b[38;5;28mint\u001b[39m:\n\u001b[0;32m----> 8\u001b[0m     \u001b[38;5;28;01mwhile\u001b[39;00m \u001b[38;5;28mself\u001b[39m\u001b[38;5;241m.\u001b[39mqueue \u001b[38;5;129;01mand\u001b[39;00m \u001b[38;5;28mself\u001b[39m\u001b[38;5;241m.\u001b[39mqueue[\u001b[38;5;241m0\u001b[39m] \u001b[38;5;241m<\u001b[39m t \u001b[38;5;241m-\u001b[39m \u001b[38;5;241m3000\u001b[39m:\n\u001b[1;32m      9\u001b[0m         \u001b[38;5;28mself\u001b[39m\u001b[38;5;241m.\u001b[39mqueue\u001b[38;5;241m.\u001b[39mpopleft()\n\u001b[1;32m     10\u001b[0m     \u001b[38;5;28mself\u001b[39m\u001b[38;5;241m.\u001b[39mqueue\u001b[38;5;241m.\u001b[39mappend(t)\n",
      "\u001b[0;31mTypeError\u001b[0m: '<' not supported between instances of 'types.GenericAlias' and 'int'"
     ]
    }
   ],
   "source": [
    "#number of recent calls\n",
    "\n",
    "from collections import deque\n",
    "class RecentCounter:\n",
    "    def __init__(self):\n",
    "        self.queue = deque\n",
    "    def ping(self, t: int) -> int:\n",
    "        while self.queue and self.queue[0] < t - 3000:\n",
    "            self.queue.popleft()\n",
    "        self.queue.append(t)\n",
    "        return len(self.queue)\n",
    "\n",
    "obj = RecentCounter()\n",
    "param_1 = obj.ping(5)"
   ]
  },
  {
   "cell_type": "code",
   "execution_count": null,
   "id": "b8ed20dc-d57e-4506-bb39-821826169c67",
   "metadata": {},
   "outputs": [],
   "source": []
  }
 ],
 "metadata": {
  "kernelspec": {
   "display_name": "Python 3 (ipykernel)",
   "language": "python",
   "name": "python3"
  },
  "language_info": {
   "codemirror_mode": {
    "name": "ipython",
    "version": 3
   },
   "file_extension": ".py",
   "mimetype": "text/x-python",
   "name": "python",
   "nbconvert_exporter": "python",
   "pygments_lexer": "ipython3",
   "version": "3.12.4"
  }
 },
 "nbformat": 4,
 "nbformat_minor": 5
}
