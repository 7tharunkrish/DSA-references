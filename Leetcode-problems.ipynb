{
 "cells": [
  {
   "cell_type": "markdown",
   "id": "f7e264ac-8679-4766-ba9c-fb65ea339eee",
   "metadata": {},
   "source": [
    "# tharun"
   ]
  },
  {
   "cell_type": "markdown",
   "id": "d742c9e3-d76a-4a3a-b1f0-a687cac0cb7b",
   "metadata": {},
   "source": [
    "# User\n",
    "markdown font big"
   ]
  },
  {
   "cell_type": "markdown",
   "id": "b31c5951-db25-42b9-9362-4a281988ec69",
   "metadata": {},
   "source": [
    "# Assistant\n",
    "# Making Text Bigger in Markdown\n",
    "\n",
    "In Jupyter Notebooks, you can make text bigger in Markdown cells using header syntax. Headers are created by using the hash symbol (#) at the beginning of a line.\n",
    "\n",
    "Here's how to create different sized headers:\n"
   ]
  },
  {
   "cell_type": "markdown",
   "id": "22553964-c037-4f1e-b84d-29b2fb2dae69",
   "metadata": {},
   "source": [
    "markdown\n",
    "# Largest Heading (H1)\n",
    "## Second Largest (H2)\n",
    "### Third Largest (H3)\n",
    "#### Medium Heading (H4)\n",
    "##### Smaller Heading (H5)\n",
    "###### Smallest Heading (H6)"
   ]
  },
  {
   "cell_type": "markdown",
   "id": "ed4c3411-d270-440f-b0cc-a68009bc33ca",
   "metadata": {},
   "source": [
    "\n",
    "If you want to emphasize text without using headers, you can use:\n",
    "\n",
    "- **Bold text**: Surround text with double asterisks or double underscores\n",
    "  - Example: `**bold text**` or `__bold text__`\n",
    "\n",
    "- *Italic text*: Surround text with single asterisks or single underscores\n",
    "  - Example: `*italic text*` or `_italic text_`\n",
    "\n",
    "For more advanced formatting in Jupyter Notebooks, you might want to explore these Python packages:\n",
    "- `nbconvert` - for converting notebooks to other formats with custom styling\n",
    "- `jupyter-themes` - for customizing the overall appearance of your notebooks\n",
    "- `IPython.display` - for displaying HTML with custom styling\n",
    "\n",
    "Remember that standard Markdown doesn't support direct font size adjustments like HTML, but headers provide a structured way to create larger text."
   ]
  },
  {
   "cell_type": "code",
   "execution_count": null,
   "id": "2def3d33-f1ae-4422-8ef3-1c5e9ddbc3bc",
   "metadata": {},
   "outputs": [],
   "source": []
  }
 ],
 "metadata": {
  "kernelspec": {
   "display_name": "Python 3 (ipykernel)",
   "language": "python",
   "name": "python3"
  },
  "language_info": {
   "codemirror_mode": {
    "name": "ipython",
    "version": 3
   },
   "file_extension": ".py",
   "mimetype": "text/x-python",
   "name": "python",
   "nbconvert_exporter": "python",
   "pygments_lexer": "ipython3",
   "version": "3.12.4"
  }
 },
 "nbformat": 4,
 "nbformat_minor": 5
}
